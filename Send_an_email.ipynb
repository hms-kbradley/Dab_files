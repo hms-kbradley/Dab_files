{
 "cells": [
  {
   "cell_type": "markdown",
   "id": "b74be51d-8830-44dc-ae3c-38df316681ed",
   "metadata": {},
   "source": [
    "This script is a spin-off of the tutorial avaiable here:\n",
    "\n",
    "https://mailtrap.io/blog/python-send-email-gmail/\n",
    "\n",
    "I also had to some annoying google credentialing\n",
    "\n",
    "Summary of Key Steps:\n",
    "Be your own google admin\n",
    "Enable 2FA on your Gmail account.\n",
    "Generate an app-specific password via Google’s App Passwords page.\n",
    "Use the app-specific password in your Python script to authenticate and send emails."
   ]
  },
  {
   "cell_type": "code",
   "execution_count": 2,
   "id": "0938a976-11d8-4afe-81ee-1db365effcb1",
   "metadata": {},
   "outputs": [],
   "source": [
    "#Pip installs may be necessary if you receive module not found errors\n",
    "import smtplib\n",
    "import pandas as pd\n",
    "import requests\n",
    "from email.mime.multipart import MIMEMultipart\n",
    "from email.mime.text import MIMEText\n",
    "from email.mime.base import MIMEBase\n",
    "from email import encoders\n",
    "from io import StringIO"
   ]
  },
  {
   "cell_type": "code",
   "execution_count": 3,
   "id": "716786cc-8425-4b31-a0f1-67d1fb8a23ae",
   "metadata": {},
   "outputs": [
    {
     "name": "stdout",
     "output_type": "stream",
     "text": [
      "Survey data loaded successfully.\n"
     ]
    },
    {
     "name": "stdin",
     "output_type": "stream",
     "text": [
      "Enter the password Kevin gave you in class  jnts tvtq sgik zwkh\n"
     ]
    }
   ],
   "source": [
    "# Step 1: Fetch survey data from the Google Sheets URL\n",
    "\n",
    "# Example input: spreadsheet_id and tab_id (gid)\n",
    "\n",
    "spreadsheet_id = '1iDsbDwcxj5nygYZASAIIlY7Jo58tzrxK4qc4Xemj6vU'  # Example spreadsheet ID\n",
    "tab_id = '0'  # Example tab ID (gid)\n",
    "csv_url = f'https://docs.google.com/spreadsheets/d/{spreadsheet_id}/export?format=csv&gid={tab_id}'\n",
    "\n",
    "# Notes:\n",
    "# - The 'spreadsheet_id' is the unique identifier of the Google Sheet, find after '/d/' and before '/edit'.# \n",
    "# - The 'tab_id' (also known as gid) is the identifier of the specific sheet/tab , found after 'gid='.\n",
    "#   Example URL: 'https://docs.google.com/spreadsheets/d/<spreadsheet_id>/edit#gid=<tab_id>'\n",
    "\n",
    "response_survey = requests.get(csv_url)\n",
    "survey_data = response_survey.content\n",
    "survey_df = pd.read_csv(StringIO(survey_data.decode('utf-8')))\n",
    "\n",
    "#Credentials \n",
    "pw = input(\"Enter the password Kevin gave you in class to continue \")"
   ]
  },
  {
   "cell_type": "code",
   "execution_count": 4,
   "id": "75918ecc-3451-4d04-bccd-020aaef81152",
   "metadata": {},
   "outputs": [
    {
     "name": "stdout",
     "output_type": "stream",
     "text": [
      "Email with attachment prepared.\n"
     ]
    }
   ],
   "source": [
    "# Step 2: Email details and setup\n",
    "# this is a bit of a burner email. Again, you could totally hack me, but you wouldn't really be able to get alot\n",
    "from_email = 'dab_class@hmsdataconsulting.com'\n",
    "\n",
    "#enter your email here:\n",
    "to_email = 'kevinpatrickbradley@gmail.com'\n",
    "subject = \"Escape Room\"\n",
    "body = \"Hi Kevin,\\n\\nPlease find the attached survey data. I am leaving now. \\n\\nBest regards,\\nYour Name\"\n",
    "\n",
    "# Step 3: Create the email\n",
    "msg = MIMEMultipart()\n",
    "#MIME means Multipurpose Internet Mail Extensions (MIME) \n",
    "# basically an object that goes over mail is very unique in structure. \n",
    "#MIME helps sort headers into the spot they are supposed to be, and body into the right parts\n",
    "\n",
    "msg['From'] = from_email\n",
    "msg['To'] = to_email\n",
    "msg['Subject'] = subject\n",
    "msg.attach(MIMEText(body, 'plain'))\n",
    "\n",
    "# Step 4: Attach the CSV data\n",
    "csv_buffer = StringIO()\n",
    "survey_df.to_csv(csv_buffer, index=False)\n",
    "csv_buffer.seek(0)\n",
    "\n",
    "part = MIMEBase('application', 'octet-stream')\n",
    "#This is the kind of thing I don't worry about too much in a script I take from a turorial \n",
    "#Possibly I will need to worry about it if there is troubleshooting necessary \n",
    "\n",
    "part.set_payload(csv_buffer.getvalue())\n",
    "encoders.encode_base64(part)\n",
    "part.add_header('Content-Disposition', f'attachment; filename=\"survey_data.csv\"')\n",
    "msg.attach(part)\n",
    "\n",
    "#print statements help because this is going to be an executable \n",
    "print(\"Email with attachment prepared.\")"
   ]
  },
  {
   "cell_type": "code",
   "execution_count": 5,
   "id": "7aa3c742-215f-4ee8-9527-79de03d65565",
   "metadata": {},
   "outputs": [
    {
     "name": "stdout",
     "output_type": "stream",
     "text": [
      "Email successfully sent to kevinpatrickbradley@gmail.com.\n"
     ]
    }
   ],
   "source": [
    "# Step 5: Set up SMTP and send the email\n",
    "# this means Simple Mail Transfer Protocol\n",
    "\n",
    "server = smtplib.SMTP('smtp.gmail.com', 587)\n",
    "server.starttls()\n",
    "\n",
    "# Login to the Gmail account (make sure to use an app-specific password if using 2FA)\n",
    "server.login(from_email, pw)  \n",
    "\n",
    "# Convert the message to a string and send\n",
    "text = msg.as_string()\n",
    "server.sendmail(from_email, to_email, text)\n",
    "server.quit()\n",
    "print(f\"Email successfully sent to {to_email}.\")"
   ]
  },
  {
   "cell_type": "code",
   "execution_count": null,
   "id": "2d61c944-4db0-418c-8392-346edcee7937",
   "metadata": {},
   "outputs": [],
   "source": []
  }
 ],
 "metadata": {
  "kernelspec": {
   "display_name": "Python 3 (ipykernel)",
   "language": "python",
   "name": "python3"
  },
  "language_info": {
   "codemirror_mode": {
    "name": "ipython",
    "version": 3
   },
   "file_extension": ".py",
   "mimetype": "text/x-python",
   "name": "python",
   "nbconvert_exporter": "python",
   "pygments_lexer": "ipython3",
   "version": "3.9.19"
  }
 },
 "nbformat": 4,
 "nbformat_minor": 5
}
