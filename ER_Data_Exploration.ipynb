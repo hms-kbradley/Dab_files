{
 "cells": [
  {
   "cell_type": "code",
   "execution_count": 1,
   "id": "c9f833ea-8666-45ab-aebb-1dfb4db38315",
   "metadata": {},
   "outputs": [],
   "source": [
    "#standard libraries\n",
    "import pandas as pd\n",
    "import numpy as np\n",
    "from io import StringIO\n",
    "import requests\n",
    "from urllib.parse import urlparse, parse_qs\n",
    "import matplotlib.pyplot as plt"
   ]
  },
  {
   "cell_type": "code",
   "execution_count": 2,
   "id": "16b1b456-21d2-4cd4-8aaf-02e76b2d90ad",
   "metadata": {},
   "outputs": [],
   "source": [
    "def fetch_google_to_df(url):\n",
    "    \n",
    "    parsed_url = urlparse(url)\n",
    "    spreadsheet_id = parsed_url.path.split('/')[3]  # Extract the spreadsheet ID\n",
    "    query_params = parse_qs(parsed_url.query)\n",
    "    gid = query_params.get('gid', ['0'])[0]  # Default to gid=0 if not present\n",
    "    export_url = f\"https://docs.google.com/spreadsheets/d/{spreadsheet_id}/export?format=csv&gid={gid}\"    \n",
    "\n",
    "\n",
    "    response = requests.get(export_url)\n",
    "    data = response.content\n",
    "    df = pd.read_csv(StringIO(data.decode('utf-8')))   \n",
    "    return df"
   ]
  },
  {
   "cell_type": "code",
   "execution_count": 3,
   "id": "0eacc0c3-09a0-4258-bc3d-9eb51bc8f7f1",
   "metadata": {},
   "outputs": [],
   "source": [
    "Interactions = fetch_google_to_df('https://docs.google.com/spreadsheets/d/1nbn86nLAy5dOtsxPoD8CXzbeNdn892rsLUyIbXZhaXE/edit?gid=233723893#gid=233723893')\n",
    "Facility_info = fetch_google_to_df('https://docs.google.com/spreadsheets/d/1nbn86nLAy5dOtsxPoD8CXzbeNdn892rsLUyIbXZhaXE/edit?gid=200201008#gid=200201008')\n",
    "Personnel = fetch_google_to_df('https://docs.google.com/spreadsheets/d/1nbn86nLAy5dOtsxPoD8CXzbeNdn892rsLUyIbXZhaXE/edit?gid=942158341#gid=942158341')\n",
    "Employee_lookup = fetch_google_to_df('https://docs.google.com/spreadsheets/d/1nbn86nLAy5dOtsxPoD8CXzbeNdn892rsLUyIbXZhaXE/edit?gid=1811056208#gid=1811056208')"
   ]
  },
  {
   "cell_type": "code",
   "execution_count": 4,
   "id": "25c5e7fe-3102-484c-8325-613cec901aa1",
   "metadata": {},
   "outputs": [],
   "source": [
    "import matplotlib.pyplot as plt\n",
    "\n",
    "# Add weighted points for each boolean condition\n",
    "Interactions['boolean_score'] = (\n",
    "    Interactions['Diabetes'] * 40 +  # Increased weight for Diabetes\n",
    "    Interactions['Hypertension'] * 50 +  # High weight for Hypertension\n",
    "    Interactions['Dyslipidemia'] * 30 +  # Moderate weight\n",
    "    Interactions['COVID'] * 20  # Lower weight for COVID\n",
    ")\n",
    "\n",
    "# Calculate Fever contribution\n",
    "Interactions['fever_score'] = (Interactions['Fever (°F)'] - 98.6).clip(lower=0) * 10\n",
    "\n",
    "# Calculate Blood Pressure contributions\n",
    "Interactions['systolic_bp_score'] = (Interactions['BP Upper'] - 120).clip(lower=0) * 0.6  # Slightly higher impact\n",
    "Interactions['diastolic_bp_score'] = (Interactions['BP Lower'] - 80).clip(lower=0) * 0.6  # Slightly higher impact\n",
    "\n",
    "# Combine all scores\n",
    "Interactions['raw_risk_score'] = (\n",
    "    Interactions['boolean_score'] +\n",
    "    Interactions['fever_score'] +\n",
    "    Interactions['systolic_bp_score'] +\n",
    "    Interactions['diastolic_bp_score']\n",
    ")\n",
    "\n",
    "# Cap the score at 100\n",
    "Interactions['stroke_risk_score'] = Interactions['raw_risk_score'].clip(upper=100)\n",
    "\n",
    "# Normalize to 0-100 range dynamically\n",
    "Interactions['stroke_risk_score'] = (\n",
    "    100 * Interactions['raw_risk_score'] / Interactions['raw_risk_score'].max()\n",
    ")"
   ]
  },
  {
   "cell_type": "code",
   "execution_count": 5,
   "id": "58a2dc3b-2373-4f7d-9959-91806bd91e5e",
   "metadata": {},
   "outputs": [
    {
     "name": "stdout",
     "output_type": "stream",
     "text": [
      "Stroke Risk Score Given Age = (0.02 × Age) + 18.07\n",
      "Correlation = 0.3\n"
     ]
    }
   ],
   "source": [
    "# Group by patient_age and calculate the average stroke risk score\n",
    "age_avg_risk = Interactions.groupby('patient_age')['stroke_risk_score'].mean().reset_index()\n",
    "\n",
    "# Calculate the correlation between age and average stroke risk score\n",
    "correlation = age_avg_risk['patient_age'].corr(age_avg_risk['stroke_risk_score'])\n",
    "correlation\n",
    "\n",
    "# Perform linear regression to get slope and intercept\n",
    "slope, intercept = np.polyfit(Interactions['patient_age'], Interactions['stroke_risk_score'], 1)\n",
    "\n",
    "# Print the regression line equation\n",
    "print(f\"Stroke Risk Score Given Age = ({slope:.2f} × Age) + {intercept:.2f}\")\n",
    "print(f\"Correlation = {round(correlation,3)}\")"
   ]
  },
  {
   "cell_type": "code",
   "execution_count": null,
   "id": "caff7352-1ffc-4892-a0c0-4d742f479be5",
   "metadata": {},
   "outputs": [],
   "source": []
  },
  {
   "cell_type": "code",
   "execution_count": null,
   "id": "a83d1990-e2d2-4cf8-999e-601577d02f0f",
   "metadata": {},
   "outputs": [],
   "source": []
  },
  {
   "cell_type": "code",
   "execution_count": null,
   "id": "f2efee85-9c18-43f9-91e5-fd782b899c1f",
   "metadata": {},
   "outputs": [],
   "source": []
  }
 ],
 "metadata": {
  "kernelspec": {
   "display_name": "Python [conda env:base] *",
   "language": "python",
   "name": "conda-base-py"
  },
  "language_info": {
   "codemirror_mode": {
    "name": "ipython",
    "version": 3
   },
   "file_extension": ".py",
   "mimetype": "text/x-python",
   "name": "python",
   "nbconvert_exporter": "python",
   "pygments_lexer": "ipython3",
   "version": "3.12.7"
  }
 },
 "nbformat": 4,
 "nbformat_minor": 5
}
