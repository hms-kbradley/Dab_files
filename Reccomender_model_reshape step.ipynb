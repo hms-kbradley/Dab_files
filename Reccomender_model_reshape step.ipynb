{
 "cells": [
  {
   "cell_type": "code",
   "execution_count": 1,
   "id": "034c439a-f54c-482f-a1bf-1358a6d02452",
   "metadata": {},
   "outputs": [],
   "source": [
    "#standard libraries\n",
    "import pandas as pd\n",
    "import numpy as np\n",
    "from io import StringIO\n",
    "import requests"
   ]
  },
  {
   "cell_type": "code",
   "execution_count": 2,
   "id": "5f5d6931-c81f-4185-be43-0d0ceceb4b06",
   "metadata": {},
   "outputs": [],
   "source": [
    "# Fetch survey responses data\n",
    "survey_url = 'https://docs.google.com/spreadsheets/d/1iDsbDwcxj5nygYZASAIIlY7Jo58tzrxK4qc4Xemj6vU/export?format=csv&gid=1697481328'\n",
    "response_survey = requests.get(survey_url)\n",
    "survey_data = response_survey.content\n",
    "survey_df = pd.read_csv(StringIO(survey_data.decode('utf-8')))\n",
    "\n",
    "# Fetch content recommendations data\n",
    "content_url = 'https://docs.google.com/spreadsheets/d/1iDsbDwcxj5nygYZASAIIlY7Jo58tzrxK4qc4Xemj6vU/export?format=csv&gid=0'\n",
    "response_content = requests.get(content_url)\n",
    "content_data = response_content.content\n",
    "content_df = pd.read_csv(StringIO(content_data.decode('utf-8')))"
   ]
  },
  {
   "cell_type": "code",
   "execution_count": 3,
   "id": "960c8eb8-577f-457a-90d2-cf20c1cf033b",
   "metadata": {},
   "outputs": [],
   "source": [
    "mapping = {\n",
    "    'Kevin Bradley': 'Kevin Bradley',\n",
    "    'Martin Swoverland': 'Martin Swoverland',\n",
    "    'Valerie Velasquez': 'Valerie Velasquez',\n",
    "    'YURANIS J SALCEDO': 'Yuranis Salcedo',\n",
    "    'Amanda Geerhart': 'Amanda Geerhart',\n",
    "    'Salah Zaman': 'Salah Zaman',\n",
    "    'Charles': 'Charles Okunfolami',\n",
    "    'Bibi Persaud': 'Bibi Persaud',\n",
    "    'Antonia': 'Antonia Demeny',\n",
    "    'Adir Cohen': 'Adir Cohen',\n",
    "    'Nicholas ': 'Nicholas Alonzo',\n",
    "    'Jacqueline Zhinin': 'Jacqueline Zhinin',\n",
    "    'Jeremy Simhon': 'Jeremy Simhon',\n",
    "    'Steven Phillips': 'Steven Phillips',\n",
    "    'Chizzy Exe': 'Chizzy Exe',\n",
    "    'Mathew Santos': 'Mathew Santos',\n",
    "    'Ashish Jha': 'Ashish Jha'\n",
    "}\n",
    "\n",
    "survey_df['Name'] = survey_df['Add your name (so I can match up names via vlookup)'].replace(mapping)"
   ]
  },
  {
   "cell_type": "code",
   "execution_count": null,
   "id": "a33040d7-a4e5-4ba3-bb7a-efd579a1e9ba",
   "metadata": {},
   "outputs": [],
   "source": []
  },
  {
   "cell_type": "code",
   "execution_count": 4,
   "id": "9e208743-73f6-47bd-9633-22a4dd698ba3",
   "metadata": {},
   "outputs": [],
   "source": [
    "def convert_rating(value):\n",
    "    if pd.isna(value):\n",
    "        return np.nan\n",
    "    if value == 'Desirable':\n",
    "        return 5\n",
    "    elif value == 'Undesirable':\n",
    "        return 1\n",
    "    elif 'Loved It' in str(value):\n",
    "        return 5\n",
    "    elif 'Liked It' in str(value):\n",
    "        return 4\n",
    "    elif 'No basis for judgment' in str(value):\n",
    "        return np.nan\n",
    "    try:\n",
    "        return float(value)\n",
    "    except ValueError:\n",
    "        return np.nan\n",
    "\n",
    "# Apply the conversion to all columns that start with \"Rate these\"\n",
    "for col in survey_df.columns:\n",
    "    if col.startswith('Rate these'):\n",
    "        survey_df[col] = survey_df[col].apply(convert_rating)\n",
    "\n",
    "# Split the superhero powers\n",
    "survey_df['Superhero Powers'] = survey_df['Select up to 3 of your top super hero powers'].str.split(',')\n",
    "\n",
    "# Split the snack choices\n",
    "survey_df['Snack Choices'] = survey_df['What snack are you looking for at break? (select up to 3)'].str.split(',')\n",
    "\n",
    "# Handle missing values in the content data\n",
    "# For simplicity, let's fill missing author names with 'Unknown'\n",
    "content_df['Author'] = content_df['Author'].fillna('Unknown')\n",
    "\n",
    "# Now perform some basic label encoding\n",
    "# We'll convert 'Type' to a numerical representation\n",
    "from sklearn.preprocessing import LabelEncoder\n",
    "label_encoder = LabelEncoder()\n",
    "content_df['Type_encoded'] = label_encoder.fit_transform(content_df['Type'])\n"
   ]
  },
  {
   "cell_type": "code",
   "execution_count": 5,
   "id": "7d8dc073-2a4d-4cf5-bcac-6458ce70c0a8",
   "metadata": {},
   "outputs": [],
   "source": [
    "# Now, attempt to merge the dataframes again\n",
    "merged_df = survey_df.merge(content_df, left_on='Name', right_on='Name')\n"
   ]
  },
  {
   "cell_type": "code",
   "execution_count": 14,
   "id": "35644c60-ae23-4a9a-9cef-ffef08ab86bc",
   "metadata": {},
   "outputs": [],
   "source": [
    "\n",
    "#Baiscally I am now going to save by printing to Googlesheets\n",
    "merged_df.to_clipboard(index=False)\n"
   ]
  },
  {
   "cell_type": "code",
   "execution_count": null,
   "id": "78e8aaea-bf36-4a8b-91eb-7de9e03d9d25",
   "metadata": {},
   "outputs": [],
   "source": []
  }
 ],
 "metadata": {
  "kernelspec": {
   "display_name": "Python 3 (ipykernel)",
   "language": "python",
   "name": "python3"
  },
  "language_info": {
   "codemirror_mode": {
    "name": "ipython",
    "version": 3
   },
   "file_extension": ".py",
   "mimetype": "text/x-python",
   "name": "python",
   "nbconvert_exporter": "python",
   "pygments_lexer": "ipython3",
   "version": "3.9.19"
  }
 },
 "nbformat": 4,
 "nbformat_minor": 5
}
