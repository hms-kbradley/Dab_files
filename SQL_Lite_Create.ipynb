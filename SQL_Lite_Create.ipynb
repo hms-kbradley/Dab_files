{
 "cells": [
  {
   "cell_type": "code",
   "execution_count": 1,
   "id": "0d8a4167-47d2-44d0-9953-da5cba23e997",
   "metadata": {},
   "outputs": [],
   "source": [
    "import subprocess\n",
    "\n",
    "# Function to install a package if it's not already installed\n",
    "def install_package(package_name):\n",
    "    try:\n",
    "        __import__(package_name)\n",
    "    except ImportError:\n",
    "        subprocess.check_call(['pip', 'install', package_name])\n",
    "\n",
    "# Ensure necessary packages are installed\n",
    "install_package('pandas')\n",
    "install_package('requests')\n",
    "install_package('pyperclip')\n",
    "install_package('os')\n",
    "install_package('io')\n",
    "install_package('sqlite3')\n",
    "\n",
    "# Now import the packages\n",
    "import requests\n",
    "import pandas as pd\n",
    "from io import StringIO\n",
    "import sqlite3\n",
    "import os\n",
    "import pyperclip"
   ]
  },
  {
   "cell_type": "code",
   "execution_count": 2,
   "id": "99f25953-b389-47e9-8a93-00acbf2d5efd",
   "metadata": {},
   "outputs": [],
   "source": [
    "# URLs for Google Sheets\n",
    "url_track_streams = 'https://docs.google.com/spreadsheets/d/1t7EUQ6zAd-Y5kDK7qbyxmJzYX6CwJUdpG9_I8-nAYhs/export?format=csv&gid=149563190'\n",
    "url_track_artists = 'https://docs.google.com/spreadsheets/d/1t7EUQ6zAd-Y5kDK7qbyxmJzYX6CwJUdpG9_I8-nAYhs/export?format=csv&gid=1500032516'\n",
    "url_track_names = 'https://docs.google.com/spreadsheets/d/1t7EUQ6zAd-Y5kDK7qbyxmJzYX6CwJUdpG9_I8-nAYhs/export?format=csv&gid=1258211082'\n",
    "\n",
    "# Step 1: Fetch data from Google Sheets\n",
    "response = requests.get(url_track_streams)\n",
    "data = response.content\n",
    "df_track_streams = pd.read_csv(StringIO(data.decode('utf-8')))\n",
    "df_track_streams['streams'] = pd.to_numeric(df_track_streams['streams'], errors='coerce')\n",
    "\n",
    "response = requests.get(url_track_artists)\n",
    "data = response.content\n",
    "df_track_artists = pd.read_csv(StringIO(data.decode('utf-8')))\n",
    "\n",
    "response = requests.get(url_track_names)\n",
    "data = response.content\n",
    "df_track_names = pd.read_csv(StringIO(data.decode('utf-8')))\n",
    "\n",
    "# Step 2: Create a SQLite database\n",
    "db_name = 'spotify_database.db'\n",
    "conn = sqlite3.connect(db_name)\n",
    "cur = conn.cursor()\n",
    "\n"
   ]
  },
  {
   "cell_type": "code",
   "execution_count": 3,
   "id": "05f41c3e-b63f-474b-a88a-8136dd4dfcab",
   "metadata": {},
   "outputs": [
    {
     "data": {
      "text/plain": [
       "1277"
      ]
     },
     "execution_count": 3,
     "metadata": {},
     "output_type": "execute_result"
    }
   ],
   "source": [
    "# Create table and insert data for track_streams\n",
    "columns = df_track_streams.columns\n",
    "columns_str = ', '.join([f'\"{col}\" TEXT' for col in columns])\n",
    "create_table_query = f'CREATE TABLE IF NOT EXISTS track_streams ({columns_str});'\n",
    "cur.execute(create_table_query)\n",
    "df_track_streams.to_sql('track_streams', conn, if_exists='replace', index=False)\n",
    "\n",
    "# Create table and insert data for track_artists\n",
    "columns = df_track_artists.columns\n",
    "columns_str = ', '.join([f'\"{col}\" TEXT' for col in columns])\n",
    "create_table_query = f'CREATE TABLE IF NOT EXISTS track_artists ({columns_str});'\n",
    "cur.execute(create_table_query)\n",
    "df_track_artists.to_sql('track_artists', conn, if_exists='replace', index=False)\n",
    "\n",
    "# Create table and insert data for track_names\n",
    "columns = df_track_names.columns\n",
    "columns_str = ', '.join([f'\"{col}\" TEXT' for col in columns])\n",
    "create_table_query = f'CREATE TABLE IF NOT EXISTS track_names ({columns_str});'\n",
    "cur.execute(create_table_query)\n",
    "df_track_names.to_sql('track_names', conn, if_exists='replace', index=False)"
   ]
  },
  {
   "cell_type": "code",
   "execution_count": 4,
   "id": "35a49821-b7bd-4255-9568-b776cc4badba",
   "metadata": {},
   "outputs": [
    {
     "name": "stdout",
     "output_type": "stream",
     "text": [
      "SQLite database file path: /Users/kevinbradley/spotify_streams.db\n",
      "Database file path copied to clipboard.\n"
     ]
    }
   ],
   "source": [
    "# Commit the changes\n",
    "conn.commit()\n",
    "\n",
    "# Step 3: Print the file path to the SQLite database and copy to clipboard\n",
    "db_path = os.path.abspath(db_name)\n",
    "print(f\"SQLite database file path: {db_path}\")\n",
    "\n",
    "# Copy the file path to clipboard\n",
    "pyperclip.copy(db_path)\n",
    "print(\"Database file path copied to clipboard.\")\n",
    "\n",
    "# Close the connection\n",
    "conn.close()"
   ]
  },
  {
   "cell_type": "code",
   "execution_count": null,
   "id": "9a59eac4-8992-4a5d-91e2-12294cc4bb0e",
   "metadata": {},
   "outputs": [],
   "source": []
  },
  {
   "cell_type": "code",
   "execution_count": null,
   "id": "f9b1d77f-4d1e-4068-95f7-c9771abcbdb7",
   "metadata": {},
   "outputs": [],
   "source": []
  }
 ],
 "metadata": {
  "kernelspec": {
   "display_name": "Python 3 (ipykernel)",
   "language": "python",
   "name": "python3"
  },
  "language_info": {
   "codemirror_mode": {
    "name": "ipython",
    "version": 3
   },
   "file_extension": ".py",
   "mimetype": "text/x-python",
   "name": "python",
   "nbconvert_exporter": "python",
   "pygments_lexer": "ipython3",
   "version": "3.9.19"
  }
 },
 "nbformat": 4,
 "nbformat_minor": 5
}
