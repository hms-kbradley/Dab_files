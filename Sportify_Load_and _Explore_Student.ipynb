{
 "cells": [
  {
   "cell_type": "code",
   "execution_count": 1,
   "id": "7a7e8526-ff86-494f-a1af-1f873e2d15b9",
   "metadata": {},
   "outputs": [],
   "source": [
    "#!pip install requests\n",
    "#!pip install pandas\n",
    "#!pip install io\n",
    "\n",
    "import requests\n",
    "import pandas as pd\n",
    "from io import StringIO\n",
    "import matplotlib.pyplot as plt"
   ]
  },
  {
   "cell_type": "code",
   "execution_count": 2,
   "id": "afeaac90-322a-42d6-8962-36251ee63eed",
   "metadata": {},
   "outputs": [],
   "source": [
    "# Construct the export URL\n",
    "url = 'https://docs.google.com/spreadsheets/d/1t7EUQ6zAd-Y5kDK7qbyxmJzYX6CwJUdpG9_I8-nAYhs/export?format=csv&gid=149563190'\n",
    "\n",
    "# Fetch the CSV data\n",
    "response = requests.get(url)\n",
    "data = response.content\n",
    "\n",
    "# Read the CSV data into a DataFrame\n",
    "df = pd.read_csv(StringIO(data.decode('utf-8')))"
   ]
  },
  {
   "cell_type": "code",
   "execution_count": 3,
   "id": "8e3c6829-6a37-4071-918e-3ffd01c2dbec",
   "metadata": {},
   "outputs": [],
   "source": [
    "# Show the first 5 rows\n"
   ]
  },
  {
   "cell_type": "code",
   "execution_count": 4,
   "id": "d5b1634f-ce99-4778-92a3-21f4b197b54d",
   "metadata": {},
   "outputs": [],
   "source": [
    "# Summary statistics\n"
   ]
  },
  {
   "cell_type": "code",
   "execution_count": 5,
   "id": "af261f08-4598-480e-9bcd-3b4d291c65ff",
   "metadata": {},
   "outputs": [],
   "source": [
    "# Check for null values\n"
   ]
  },
  {
   "cell_type": "code",
   "execution_count": 6,
   "id": "1bc495cb-9c72-48f3-b71f-32e9852edf23",
   "metadata": {},
   "outputs": [],
   "source": [
    "# Sort and filter the top 5 most danceable songs\n"
   ]
  }
 ],
 "metadata": {
  "kernelspec": {
   "display_name": "Python 3 (ipykernel)",
   "language": "python",
   "name": "python3"
  },
  "language_info": {
   "codemirror_mode": {
    "name": "ipython",
    "version": 3
   },
   "file_extension": ".py",
   "mimetype": "text/x-python",
   "name": "python",
   "nbconvert_exporter": "python",
   "pygments_lexer": "ipython3",
   "version": "3.9.19"
  }
 },
 "nbformat": 4,
 "nbformat_minor": 5
}
