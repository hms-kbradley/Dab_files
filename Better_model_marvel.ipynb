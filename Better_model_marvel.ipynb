{
 "cells": [
  {
   "cell_type": "code",
   "execution_count": 1,
   "id": "c5b49621",
   "metadata": {},
   "outputs": [],
   "source": [
    "#standard libraries\n",
    "import pandas as pd\n",
    "import numpy as np\n",
    "\n",
    "#need this to get data from my googlesheet\n",
    "from io import StringIO\n",
    "import matplotlib.pyplot as plt\n",
    "import requests\n",
    "\n",
    "#sklearn library is large\n",
    "#notice how the import is specifying class and funciton\n",
    "from sklearn.model_selection import train_test_split\n",
    "from sklearn.linear_model import LinearRegression\n",
    "from sklearn.preprocessing import OneHotEncoder\n",
    "from sklearn.compose import ColumnTransformer\n",
    "from sklearn.pipeline import Pipeline\n",
    "from sklearn.metrics import mean_squared_error, r2_score\n",
    "\n",
    "# Construct the export URL\n",
    "url = 'https://docs.google.com/spreadsheets/d/1p0nIAMW_-cVO4_5AQJ0HQuKd8JAYD-bUnauusrm95Bk/export?format=csv&gid=1808035861'\n",
    "\n",
    "# Fetch the CSV data\n",
    "response = requests.get(url)\n",
    "data = response.content\n",
    "\n",
    "# Read the CSV data into a DataFrame\n",
    "df = pd.read_csv(StringIO(data.decode('utf-8')))\n",
    "\n",
    "\n",
    "#its a little easier for a step later on if I remove all the spaces and such from the column names\n",
    "df = df.rename(columns={\n",
    "    'film': 'Film',\n",
    "    'Opening Weekend': 'Opening_Weekend_Gross',\n",
    "    'Audience Score': 'Audience_Score',\n",
    "    'Critic Score': 'Critic_Score',\n",
    "    'Budget': 'Budget',\n",
    "    'year': 'Year',\n",
    "    'category': 'Category',\n",
    "    'Second Weekend': 'Second_Weekend_Gross', \n",
    "    'order': 'Order'\n",
    "})\n",
    "\n",
    "# Display dataframe\n",
    "df = df[['Film', 'Opening_Weekend_Gross', 'Audience_Score', 'Critic_Score', 'Budget', 'Year', 'Category', 'Second_Weekend_Gross', 'Order']]\n",
    "df.head()\n",
    "\n",
    "# This didn't matter in excel, but I now want the audience scores and critic scores to be 'scaled up' such that the a unit is 1 point\n",
    "df['Audience_Score'] = df['Audience_Score'] * 100\n",
    "df['Critic_Score'] = df['Critic_Score'] * 100\n"
   ]
  },
  {
   "cell_type": "code",
   "execution_count": 2,
   "id": "bb2919c4",
   "metadata": {},
   "outputs": [],
   "source": [
    "# Prepare the features (X) and target variable (y)\n",
    "features = df[['Opening_Weekend_Gross', 'Audience_Score', 'Critic_Score', 'Budget', 'Year', 'Category', 'Order']]\n",
    "target_variable = df['Second_Weekend_Gross']\n"
   ]
  },
  {
   "cell_type": "code",
   "execution_count": 3,
   "id": "6a039790-5cdc-4874-be3d-42ba25c64fdb",
   "metadata": {},
   "outputs": [],
   "source": [
    "# Define numeric and categorical columns\n",
    "numeric_features = ['Opening_Weekend_Gross', 'Audience_Score', 'Critic_Score', 'Budget', 'Year', 'Order']\n",
    "categorical_features = ['Category']\n",
    "\n",
    "# I have to do a little bit of processing right here. It's not really cleaning. \n",
    "#It's just getting data to look just like how sklearn wants it to\n",
    "# sklearn is ready for me with a convenient way to OneHotEncode\n",
    "preprocessor = ColumnTransformer(\n",
    "    transformers=[\n",
    "        ('num', 'passthrough', numeric_features),\n",
    "        ('cat', OneHotEncoder(drop='first', sparse=False), categorical_features)\n",
    "    ])\n",
    "\n",
    "# Create the pipeline, which is just a handy tool for the two things I have to do in sklearn\n",
    "# Sometimes, we will have to do more than two things, and in that case this will be even handier\n",
    "model = Pipeline([\n",
    "    ('preprocessor', preprocessor),\n",
    "    ('regressor', LinearRegression())\n",
    "])\n",
    "\n",
    "# Split the data into training and testing sets\n",
    "X_train, X_test, y_train, y_test = train_test_split(features, target_variable, test_size=0.2, random_state=42)"
   ]
  },
  {
   "cell_type": "code",
   "execution_count": 43,
   "id": "bcc79379-d88c-4df6-9b17-b2e52a683db2",
   "metadata": {},
   "outputs": [
    {
     "name": "stdout",
     "output_type": "stream",
     "text": [
      "(24, 7)\n"
     ]
    },
    {
     "data": {
      "text/html": [
       "<div>\n",
       "<style scoped>\n",
       "    .dataframe tbody tr th:only-of-type {\n",
       "        vertical-align: middle;\n",
       "    }\n",
       "\n",
       "    .dataframe tbody tr th {\n",
       "        vertical-align: top;\n",
       "    }\n",
       "\n",
       "    .dataframe thead th {\n",
       "        text-align: right;\n",
       "    }\n",
       "</style>\n",
       "<table border=\"1\" class=\"dataframe\">\n",
       "  <thead>\n",
       "    <tr style=\"text-align: right;\">\n",
       "      <th></th>\n",
       "      <th>Opening_Weekend_Gross</th>\n",
       "      <th>Audience_Score</th>\n",
       "      <th>Critic_Score</th>\n",
       "      <th>Budget</th>\n",
       "      <th>Year</th>\n",
       "      <th>Category</th>\n",
       "      <th>Order</th>\n",
       "    </tr>\n",
       "  </thead>\n",
       "  <tbody>\n",
       "    <tr>\n",
       "      <th>28</th>\n",
       "      <td>187.0</td>\n",
       "      <td>77.0</td>\n",
       "      <td>74.0</td>\n",
       "      <td>200.0</td>\n",
       "      <td>2022</td>\n",
       "      <td>Dr Strange</td>\n",
       "      <td>28</td>\n",
       "    </tr>\n",
       "    <tr>\n",
       "      <th>24</th>\n",
       "      <td>71.0</td>\n",
       "      <td>73.0</td>\n",
       "      <td>47.0</td>\n",
       "      <td>200.0</td>\n",
       "      <td>2021</td>\n",
       "      <td>Unique</td>\n",
       "      <td>26</td>\n",
       "    </tr>\n",
       "    <tr>\n",
       "      <th>12</th>\n",
       "      <td>179.0</td>\n",
       "      <td>89.0</td>\n",
       "      <td>90.0</td>\n",
       "      <td>250.0</td>\n",
       "      <td>2016</td>\n",
       "      <td>Captain America</td>\n",
       "      <td>13</td>\n",
       "    </tr>\n",
       "    <tr>\n",
       "      <th>0</th>\n",
       "      <td>55.0</td>\n",
       "      <td>69.0</td>\n",
       "      <td>67.0</td>\n",
       "      <td>137.5</td>\n",
       "      <td>2008</td>\n",
       "      <td>Unique</td>\n",
       "      <td>2</td>\n",
       "    </tr>\n",
       "    <tr>\n",
       "      <th>4</th>\n",
       "      <td>65.0</td>\n",
       "      <td>76.0</td>\n",
       "      <td>77.0</td>\n",
       "      <td>150.0</td>\n",
       "      <td>2011</td>\n",
       "      <td>Thor</td>\n",
       "      <td>4</td>\n",
       "    </tr>\n",
       "  </tbody>\n",
       "</table>\n",
       "</div>"
      ],
      "text/plain": [
       "    Opening_Weekend_Gross  Audience_Score  Critic_Score  Budget  Year  \\\n",
       "28                  187.0            77.0          74.0   200.0  2022   \n",
       "24                   71.0            73.0          47.0   200.0  2021   \n",
       "12                  179.0            89.0          90.0   250.0  2016   \n",
       "0                    55.0            69.0          67.0   137.5  2008   \n",
       "4                    65.0            76.0          77.0   150.0  2011   \n",
       "\n",
       "           Category  Order  \n",
       "28       Dr Strange     28  \n",
       "24           Unique     26  \n",
       "12  Captain America     13  \n",
       "0            Unique      2  \n",
       "4              Thor      4  "
      ]
     },
     "execution_count": 43,
     "metadata": {},
     "output_type": "execute_result"
    }
   ],
   "source": [
    "#Lets see the Training Set\n",
    "print(X_train.shape)\n",
    "X_train.head()"
   ]
  },
  {
   "cell_type": "code",
   "execution_count": 41,
   "id": "39164d56-bfa7-45f3-9807-410a74d8a6e3",
   "metadata": {},
   "outputs": [
    {
     "name": "stdout",
     "output_type": "stream",
     "text": [
      "(6, 7)\n"
     ]
    },
    {
     "data": {
      "text/html": [
       "<div>\n",
       "<style scoped>\n",
       "    .dataframe tbody tr th:only-of-type {\n",
       "        vertical-align: middle;\n",
       "    }\n",
       "\n",
       "    .dataframe tbody tr th {\n",
       "        vertical-align: top;\n",
       "    }\n",
       "\n",
       "    .dataframe thead th {\n",
       "        text-align: right;\n",
       "    }\n",
       "</style>\n",
       "<table border=\"1\" class=\"dataframe\">\n",
       "  <thead>\n",
       "    <tr style=\"text-align: right;\">\n",
       "      <th></th>\n",
       "      <th>Opening_Weekend_Gross</th>\n",
       "      <th>Audience_Score</th>\n",
       "      <th>Critic_Score</th>\n",
       "      <th>Budget</th>\n",
       "      <th>Year</th>\n",
       "      <th>Category</th>\n",
       "      <th>Order</th>\n",
       "    </tr>\n",
       "  </thead>\n",
       "  <tbody>\n",
       "    <tr>\n",
       "      <th>27</th>\n",
       "      <td>181.0</td>\n",
       "      <td>94.0</td>\n",
       "      <td>84.0</td>\n",
       "      <td>250.0</td>\n",
       "      <td>2022</td>\n",
       "      <td>Black Panther</td>\n",
       "      <td>30</td>\n",
       "    </tr>\n",
       "    <tr>\n",
       "      <th>15</th>\n",
       "      <td>117.0</td>\n",
       "      <td>87.0</td>\n",
       "      <td>92.0</td>\n",
       "      <td>175.0</td>\n",
       "      <td>2017</td>\n",
       "      <td>Spider-Man</td>\n",
       "      <td>16</td>\n",
       "    </tr>\n",
       "    <tr>\n",
       "      <th>23</th>\n",
       "      <td>80.3</td>\n",
       "      <td>80.0</td>\n",
       "      <td>79.0</td>\n",
       "      <td>200.0</td>\n",
       "      <td>2021</td>\n",
       "      <td>Unique</td>\n",
       "      <td>24</td>\n",
       "    </tr>\n",
       "    <tr>\n",
       "      <th>17</th>\n",
       "      <td>75.8</td>\n",
       "      <td>80.0</td>\n",
       "      <td>87.0</td>\n",
       "      <td>130.0</td>\n",
       "      <td>2018</td>\n",
       "      <td>Ant-Man</td>\n",
       "      <td>20</td>\n",
       "    </tr>\n",
       "    <tr>\n",
       "      <th>8</th>\n",
       "      <td>95.0</td>\n",
       "      <td>92.0</td>\n",
       "      <td>90.0</td>\n",
       "      <td>170.0</td>\n",
       "      <td>2014</td>\n",
       "      <td>Captain America</td>\n",
       "      <td>9</td>\n",
       "    </tr>\n",
       "  </tbody>\n",
       "</table>\n",
       "</div>"
      ],
      "text/plain": [
       "    Opening_Weekend_Gross  Audience_Score  Critic_Score  Budget  Year  \\\n",
       "27                  181.0            94.0          84.0   250.0  2022   \n",
       "15                  117.0            87.0          92.0   175.0  2017   \n",
       "23                   80.3            80.0          79.0   200.0  2021   \n",
       "17                   75.8            80.0          87.0   130.0  2018   \n",
       "8                    95.0            92.0          90.0   170.0  2014   \n",
       "\n",
       "           Category  Order  \n",
       "27    Black Panther     30  \n",
       "15       Spider-Man     16  \n",
       "23           Unique     24  \n",
       "17          Ant-Man     20  \n",
       "8   Captain America      9  "
      ]
     },
     "execution_count": 41,
     "metadata": {},
     "output_type": "execute_result"
    }
   ],
   "source": [
    "#Lets see the Test Set\n",
    "print(X_test.shape\n",
    "X_test.head()"
   ]
  },
  {
   "cell_type": "code",
   "execution_count": 47,
   "id": "57959287-a9ec-4ddd-8e90-1ef24b2c0449",
   "metadata": {},
   "outputs": [
    {
     "name": "stdout",
     "output_type": "stream",
     "text": [
      "(6,)\n"
     ]
    },
    {
     "data": {
      "text/plain": [
       "27    66.0\n",
       "15    44.0\n",
       "23    25.8\n",
       "17    29.0\n",
       "8     41.0\n",
       "Name: Second_Weekend_Gross, dtype: float64"
      ]
     },
     "execution_count": 47,
     "metadata": {},
     "output_type": "execute_result"
    }
   ],
   "source": [
    "#Lets see the y values\n",
    "#\n",
    "print(y_test.shape)\n",
    "y_test.head()"
   ]
  },
  {
   "cell_type": "code",
   "execution_count": 21,
   "id": "819a671d",
   "metadata": {},
   "outputs": [
    {
     "name": "stdout",
     "output_type": "stream",
     "text": [
      "Mean Squared Error: 163.38788903130396\n",
      "Root Mean Squared Error (RMSE): 12.782327214998995  Million\n",
      "R-squared Score: 0.029040803790273295\n"
     ]
    }
   ],
   "source": [
    "# Fit the model\n",
    "model.fit(X_train, y_train)\n",
    "\n",
    "# Make predictions on the test set\n",
    "y_pred = model.predict(X_test)\n",
    "\n",
    "# Calculate performance metrics\n",
    "mse = mean_squared_error(y_test, y_pred)\n",
    "r2 = r2_score(y_test, y_pred)\n",
    "\n",
    "#RMSE or root mean squared\n",
    "rmse = np.sqrt(mse)\n",
    "\n",
    "print(\"Mean Squared Error:\", mse)\n",
    "print(\"Root Mean Squared Error (RMSE):\", rmse, \" Million\")\n",
    "print(\"R-squared Score:\", r2)"
   ]
  },
  {
   "cell_type": "code",
   "execution_count": 5,
   "id": "fbc0be87",
   "metadata": {},
   "outputs": [
    {
     "name": "stdout",
     "output_type": "stream",
     "text": [
      "Feature Coefficients:\n",
      "                     Feature  Coefficient\n",
      "7     Category_Black Panther    36.609109\n",
      "6          Category_Avengers    30.301742\n",
      "11         Category_Iron Man    13.715283\n",
      "10        Category_Guardians    13.427327\n",
      "14           Category_Unique    10.335066\n",
      "13             Category_Thor     9.834342\n",
      "8   Category_Captain America     5.857483\n",
      "9        Category_Dr Strange     5.656397\n",
      "12       Category_Spider-Man     3.508890\n",
      "4                       Year     1.927579\n",
      "5                      Order    -0.887092\n",
      "2               Critic_Score     0.434385\n",
      "0      Opening_Weekend_Gross     0.320764\n",
      "1             Audience_Score    -0.101365\n",
      "3                     Budget    -0.040503\n",
      "Intercept: -3889.883211954178\n"
     ]
    }
   ],
   "source": [
    "# Get feature names\n",
    "cat_feature_names = model.named_steps['preprocessor'].named_transformers_['cat'].get_feature_names_out(categorical_features)\n",
    "feature_names = numeric_features + cat_feature_names.tolist()\n",
    "\n",
    "# Get coefficients\n",
    "coefficients = model.named_steps['regressor'].coef_\n",
    "\n",
    "# Create a dataframe of features and their coefficients\n",
    "coef_df = pd.DataFrame({'Feature': feature_names, 'Coefficient': coefficients})\n",
    "coef_df = coef_df.sort_values('Coefficient', key=abs, ascending=False)\n",
    "\n",
    "print(\"Feature Coefficients:\")\n",
    "print(coef_df)\n",
    "\n",
    "print(\"Intercept:\", model.named_steps['regressor'].intercept_)\n"
   ]
  },
  {
   "cell_type": "code",
   "execution_count": 6,
   "id": "1f55c5e2-cc57-45d7-82a3-84300da848fd",
   "metadata": {},
   "outputs": [],
   "source": [
    "# Function to make predictions\n",
    "def predict_second_weekend(opening_weekend, audience_score, critic_score, budget, year, order, category):\n",
    "    new_data = pd.DataFrame({\n",
    "        'Opening_Weekend_Gross': [opening_weekend],\n",
    "        'Audience_Score': [audience_score],\n",
    "        'Critic_Score': [critic_score],\n",
    "        'Budget': [budget],\n",
    "        'Year': [year],\n",
    "        'Order': [order], \n",
    "        'Category': [category]\n",
    "    })\n",
    "    return model.predict(new_data)[0]\n"
   ]
  },
  {
   "cell_type": "code",
   "execution_count": 17,
   "id": "bdb971fe-7bcd-4f17-9166-d0e0faede950",
   "metadata": {},
   "outputs": [
    {
     "name": "stdout",
     "output_type": "stream",
     "text": [
      "Prediction for Second Weekend: 62.83696361177317\n"
     ]
    }
   ],
   "source": [
    "# Example prediction\n",
    "prediction = predict_second_weekend(opening_weekend = 211, audience_score = 95, critic_score = 61, budget= 200, \n",
    "                                            year = 2024, order = 40, category = 'Unique')\n",
    "print(\"Prediction for Second Weekend:\", prediction)\n"
   ]
  },
  {
   "cell_type": "code",
   "execution_count": null,
   "id": "6976f6bb-8cd2-4260-8d90-bdf0ad34aefa",
   "metadata": {},
   "outputs": [],
   "source": []
  }
 ],
 "metadata": {
  "kernelspec": {
   "display_name": "Python 3 (ipykernel)",
   "language": "python",
   "name": "python3"
  },
  "language_info": {
   "codemirror_mode": {
    "name": "ipython",
    "version": 3
   },
   "file_extension": ".py",
   "mimetype": "text/x-python",
   "name": "python",
   "nbconvert_exporter": "python",
   "pygments_lexer": "ipython3",
   "version": "3.9.19"
  }
 },
 "nbformat": 4,
 "nbformat_minor": 5
}
